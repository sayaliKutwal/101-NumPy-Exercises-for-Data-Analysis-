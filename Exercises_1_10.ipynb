{
  "nbformat": 4,
  "nbformat_minor": 0,
  "metadata": {
    "colab": {
      "name": "Exercises 1-10",
      "provenance": [],
      "include_colab_link": true
    },
    "kernelspec": {
      "name": "python3",
      "display_name": "Python 3"
    }
  },
  "cells": [
    {
      "cell_type": "markdown",
      "metadata": {
        "id": "view-in-github",
        "colab_type": "text"
      },
      "source": [
        "<a href=\"https://colab.research.google.com/github/sayaliKutwal/101-NumPy-Exercises-for-Data-Analysis-/blob/master/Exercises_1_10.ipynb\" target=\"_parent\"><img src=\"https://colab.research.google.com/assets/colab-badge.svg\" alt=\"Open In Colab\"/></a>"
      ]
    },
    {
      "cell_type": "markdown",
      "metadata": {
        "id": "gZaE46dG26rn",
        "colab_type": "text"
      },
      "source": [
        "Website for exercises https://www.machinelearningplus.com/python/101-numpy-exercises-python/"
      ]
    },
    {
      "cell_type": "markdown",
      "metadata": {
        "id": "WvcnmAw1z18A",
        "colab_type": "text"
      },
      "source": [
        "# 1.Import numpy as np and see the version\n",
        "\n",
        "Difficulty Level: L1\n",
        "\n",
        "Q. Import numpy as np and print the version number."
      ]
    },
    {
      "cell_type": "code",
      "metadata": {
        "id": "-T2rJ_vHz9kP",
        "colab_type": "code",
        "colab": {
          "base_uri": "https://localhost:8080/",
          "height": 34
        },
        "outputId": "4fe0796c-84cf-49c7-e35c-52d40cdbf993"
      },
      "source": [
        "import numpy as np\n",
        "print(np.__version__)\n"
      ],
      "execution_count": 1,
      "outputs": [
        {
          "output_type": "stream",
          "text": [
            "1.16.5\n"
          ],
          "name": "stdout"
        }
      ]
    },
    {
      "cell_type": "markdown",
      "metadata": {
        "id": "Y2nYgJ0w0LnJ",
        "colab_type": "text"
      },
      "source": [
        "# 2.How to create a 1D array?\n",
        "\n",
        "Difficulty Level: L1\n",
        "\n",
        "Q. Create a 1D array of numbers from 0 to 9\n",
        "\n",
        "Desired output:\n",
        "> array([0, 1, 2, 3, 4, 5, 6, 7, 8, 9])\n"
      ]
    },
    {
      "cell_type": "code",
      "metadata": {
        "id": "eY4FJTLj0bi8",
        "colab_type": "code",
        "colab": {
          "base_uri": "https://localhost:8080/",
          "height": 34
        },
        "outputId": "18a95671-3fa8-4eeb-c094-5171d241e585"
      },
      "source": [
        "zero_to_10 = np.arange(0, 10)\n",
        "zero_to_10"
      ],
      "execution_count": 6,
      "outputs": [
        {
          "output_type": "execute_result",
          "data": {
            "text/plain": [
              "array([0, 1, 2, 3, 4, 5, 6, 7, 8, 9])"
            ]
          },
          "metadata": {
            "tags": []
          },
          "execution_count": 6
        }
      ]
    },
    {
      "cell_type": "markdown",
      "metadata": {
        "id": "lvFDOk9U1DkV",
        "colab_type": "text"
      },
      "source": [
        "# 3.How to create a boolean array?\n",
        "\n",
        "Difficulty Level: L1\n",
        "\n",
        "Q. Create a 3×3 numpy array of all True’s"
      ]
    },
    {
      "cell_type": "code",
      "metadata": {
        "id": "yBH7JyJQ1Nqs",
        "colab_type": "code",
        "colab": {
          "base_uri": "https://localhost:8080/",
          "height": 68
        },
        "outputId": "a48623a3-26c5-479d-f674-5e0c48148ea4"
      },
      "source": [
        "# method 1\n",
        "np.full((3, 3), True, dtype=bool)"
      ],
      "execution_count": 11,
      "outputs": [
        {
          "output_type": "execute_result",
          "data": {
            "text/plain": [
              "array([[ True,  True,  True],\n",
              "       [ True,  True,  True],\n",
              "       [ True,  True,  True]])"
            ]
          },
          "metadata": {
            "tags": []
          },
          "execution_count": 11
        }
      ]
    },
    {
      "cell_type": "markdown",
      "metadata": {
        "id": "zcC2_N5f2AAc",
        "colab_type": "text"
      },
      "source": [
        "More about numpy.full() https://docs.scipy.org/doc/numpy/reference/generated/numpy.full.html"
      ]
    },
    {
      "cell_type": "code",
      "metadata": {
        "id": "3YwqUuS32HED",
        "colab_type": "code",
        "colab": {
          "base_uri": "https://localhost:8080/",
          "height": 68
        },
        "outputId": "2915c046-31e1-4de4-d811-858526881c4b"
      },
      "source": [
        "# Method 2\n",
        "np.ones((3, 3), dtype=bool)"
      ],
      "execution_count": 12,
      "outputs": [
        {
          "output_type": "execute_result",
          "data": {
            "text/plain": [
              "array([[ True,  True,  True],\n",
              "       [ True,  True,  True],\n",
              "       [ True,  True,  True]])"
            ]
          },
          "metadata": {
            "tags": []
          },
          "execution_count": 12
        }
      ]
    },
    {
      "cell_type": "markdown",
      "metadata": {
        "id": "Ic3zvCsd2ufS",
        "colab_type": "text"
      },
      "source": [
        "More about numpy.ones https://docs.scipy.org/doc/numpy/reference/generated/numpy.ones.html "
      ]
    },
    {
      "cell_type": "markdown",
      "metadata": {
        "id": "OLxL9SsJ20By",
        "colab_type": "text"
      },
      "source": [
        "# 4.How to extract items that satisfy a given condition from 1D array?\n",
        "\n",
        "Difficulty Level: L1\n",
        "\n",
        "Q. Extract all odd numbers from arr\n",
        "\n",
        "Input:\n",
        "\n",
        "arr = np.array([0, 1, 2, 3, 4, 5, 6, 7, 8, 9])\n",
        "\n",
        "Desired output:\n",
        "\n",
        "> array([1, 3, 5, 7, 9])"
      ]
    },
    {
      "cell_type": "code",
      "metadata": {
        "id": "uvJRHZHf3n6O",
        "colab_type": "code",
        "colab": {
          "base_uri": "https://localhost:8080/",
          "height": 34
        },
        "outputId": "332439f4-e1e1-4549-825b-890a8e2de974"
      },
      "source": [
        "input = np.arange(0, 10)\n",
        "output = input[input % 2 == 1]\n",
        "output"
      ],
      "execution_count": 14,
      "outputs": [
        {
          "output_type": "execute_result",
          "data": {
            "text/plain": [
              "array([1, 3, 5, 7, 9])"
            ]
          },
          "metadata": {
            "tags": []
          },
          "execution_count": 14
        }
      ]
    },
    {
      "cell_type": "markdown",
      "metadata": {
        "id": "UXdDfSrh4Y6X",
        "colab_type": "text"
      },
      "source": [
        "# 5.How to replace items that satisfy a condition with another value in numpy array?\n",
        "\n",
        "Difficulty Level: L1\n",
        "\n",
        "Q. Replace all odd numbers in arr with -1\n",
        "\n",
        "Input:\n",
        "\n",
        "arr = np.array([0, 1, 2, 3, 4, 5, 6, 7, 8, 9])\n",
        "\n",
        "Desired Output:\n",
        "\n",
        ">  array([ 0, -1,  2, -1,  4, -1,  6, -1,  8, -1])"
      ]
    },
    {
      "cell_type": "code",
      "metadata": {
        "id": "-Mvt4Xtr4qEu",
        "colab_type": "code",
        "colab": {
          "base_uri": "https://localhost:8080/",
          "height": 34
        },
        "outputId": "ec7558f1-3b7f-4dd7-f337-e138cc452c0e"
      },
      "source": [
        "input = np.arange(0, 10)\n",
        "input[input % 2 == 1] = -1\n",
        "input"
      ],
      "execution_count": 19,
      "outputs": [
        {
          "output_type": "execute_result",
          "data": {
            "text/plain": [
              "array([ 0, -1,  2, -1,  4, -1,  6, -1,  8, -1])"
            ]
          },
          "metadata": {
            "tags": []
          },
          "execution_count": 19
        }
      ]
    }
  ]
}